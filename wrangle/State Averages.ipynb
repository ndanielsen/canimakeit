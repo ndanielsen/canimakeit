{
 "metadata": {
  "name": "",
  "signature": "sha256:24e38db7b843dfbdfa46fedded1a4fd0b6acf00cfeb115fa012088e44b26b22d"
 },
 "nbformat": 3,
 "nbformat_minor": 0,
 "worksheets": [
  {
   "cells": [
    {
     "cell_type": "code",
     "collapsed": false,
     "input": [
      "import pandas as pd\n",
      "\n",
      "cluster_file = 'cluster_nonfillna.csv'\n"
     ],
     "language": "python",
     "metadata": {},
     "outputs": [],
     "prompt_number": 1
    },
    {
     "cell_type": "code",
     "collapsed": false,
     "input": [
      "df = pd.read_csv(cluster_file)\n",
      "state_averages = df.groupby('STATE').mean()\n",
      "del state_averages['NEWID']"
     ],
     "language": "python",
     "metadata": {},
     "outputs": [],
     "prompt_number": 6
    },
    {
     "cell_type": "code",
     "collapsed": false,
     "input": [
      "del state_averages['Unnamed: 0']"
     ],
     "language": "python",
     "metadata": {},
     "outputs": [],
     "prompt_number": 9
    },
    {
     "cell_type": "code",
     "collapsed": false,
     "input": [
      "state_averages.columns"
     ],
     "language": "python",
     "metadata": {},
     "outputs": [
      {
       "metadata": {},
       "output_type": "pyout",
       "prompt_number": 11,
       "text": [
        "Index([u'VEHQ', u'EARNCOMP', u'AGE_REF', u'SWIMPOOL', u'FINDRETX', u'INCLASS', u'SEX2', u'OCCUCOD1', u'OCCUCOD2', u'NO_EARNR', u'RACE2', u'REF_RACE', u'VEHQL', u'FAM_SIZE', u'SEX_REF', u'PERSLT18', u'POVLEVCY', u'TOTEXPCQ', u'PERSOT64', u'NUM_AUTO', u'TOTEXPPQ', u'REGION', u'Entertainment', u'Misc', u'Housing', u'housing', u'Neccessities', u'Type_home', u'Income', u'Transportation', u'Medical'], dtype='object')"
       ]
      }
     ],
     "prompt_number": 11
    },
    {
     "cell_type": "code",
     "collapsed": false,
     "input": [
      "state_average_csv = 'state_averages_2015_0729.csv'\n",
      "state_averages.to_csv(state_average_csv)"
     ],
     "language": "python",
     "metadata": {},
     "outputs": [],
     "prompt_number": 12
    },
    {
     "cell_type": "code",
     "collapsed": false,
     "input": [],
     "language": "python",
     "metadata": {},
     "outputs": []
    }
   ],
   "metadata": {}
  }
 ]
}